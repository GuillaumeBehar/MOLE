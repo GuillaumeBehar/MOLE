{
 "cells": [
  {
   "cell_type": "markdown",
   "metadata": {},
   "source": [
    "Requirements:\n",
    "pip install spacy\n",
    "python -m spacy download en_core_web_sm"
   ]
  },
  {
   "cell_type": "code",
   "execution_count": 6,
   "metadata": {},
   "outputs": [
    {
     "data": {
      "text/plain": [
       "True"
      ]
     },
     "execution_count": 6,
     "metadata": {},
     "output_type": "execute_result"
    }
   ],
   "source": [
    "# Requirements:\n",
    "# pip install spacy\n",
    "# python -m spacy download en_core_web_sm\n",
    "\n",
    "import spacy\n",
    "\n",
    "# Charger le modèle spaCy pour l'anglais\n",
    "nlp = spacy.load(\"en_core_web_sm\")\n",
    "\n",
    "def analyse_pos(texte):\n",
    "    doc = nlp(texte)\n",
    "    \n",
    "    # Exemple d'analyse : vérifier si le texte est à la forme négative\n",
    "    est_positif = any(token.dep_ != \"neg\" for token in doc)\n",
    "    \n",
    "    return est_positif\n",
    "\n",
    "analyse_pos(\"ILC2s are increased in chronic rhinosinusitis with nasal polyps and eosinophilia.\")"
   ]
  }
 ],
 "metadata": {
  "kernelspec": {
   "display_name": "Python 3",
   "language": "python",
   "name": "python3"
  },
  "language_info": {
   "codemirror_mode": {
    "name": "ipython",
    "version": 3
   },
   "file_extension": ".py",
   "mimetype": "text/x-python",
   "name": "python",
   "nbconvert_exporter": "python",
   "pygments_lexer": "ipython3",
   "version": "3.9.18"
  }
 },
 "nbformat": 4,
 "nbformat_minor": 2
}
