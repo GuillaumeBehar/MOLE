{
 "cells": [
  {
   "cell_type": "code",
   "execution_count": 1,
   "id": "initial_id",
   "metadata": {
    "collapsed": true,
    "ExecuteTime": {
     "end_time": "2024-03-14T13:45:01.212990Z",
     "start_time": "2024-03-14T13:44:59.846325900Z"
    }
   },
   "outputs": [
    {
     "name": "stderr",
     "output_type": "stream",
     "text": [
      "ERROR: Ignored the following versions that require a different python version: 4.0.0 Requires-Python >=3.7, <3.11; 4.1.0 Requires-Python >=3.7, <3.12; 4.1.1 Requires-Python >=3.7, <3.12; 4.1.2 Requires-Python >=3.7, <3.12; 4.2.0 Requires-Python >=3.7, <3.12; 4.3.0 Requires-Python >=3.7, <3.12; 4.3.1 Requires-Python >=3.7, <3.12; 4.3.2 Requires-Python >=3.7, <3.12; 4.4.0 Requires-Python >=3.7, <3.12; 4.5.0 Requires-Python >=3.7, <3.12; 4.5.1 Requires-Python >=3.7, <3.12; 4.6.0 Requires-Python >=3.7, <3.12; 4.6.1 Requires-Python >=3.7, <3.12; 4.6.2 Requires-Python >=3.7, <3.12; 4.6.3 Requires-Python >=3.7, <3.12; 4.6.4 Requires-Python >=3.7, <3.12; 4.6.5 Requires-Python >=3.7, <3.12\n",
      "ERROR: Could not find a version that satisfies the requirement ydata-profiling (from versions: none)\n",
      "ERROR: No matching distribution found for ydata-profiling\n"
     ]
    }
   ],
   "source": [
    "!pip install ydata-profiling"
   ]
  },
  {
   "cell_type": "code",
   "outputs": [],
   "source": [
    "import requests\n",
    "import pandas as pd\n",
    "import ydata_profiling import ProfileReport"
   ],
   "metadata": {
    "collapsed": false,
    "ExecuteTime": {
     "end_time": "2024-03-14T13:50:35.452376100Z",
     "start_time": "2024-03-14T13:50:34.310096800Z"
    }
   },
   "id": "3d6077cb16fd82b2",
   "execution_count": 4
  },
  {
   "cell_type": "code",
   "outputs": [],
   "source": [
    "API_URL = \"https://huggingface.co/api/datasets/pubmed_qa/parquet/pqa_artificial/train\"\n",
    "\n",
    "\n",
    "def query(api):\n",
    "    response = requests.get(api)\n",
    "    return response.json()\n",
    "\n",
    "\n",
    "url_parquet = query(API_URL)[0]\n",
    "EVALUATION_DATAFRAME = pd.read_parquet(url_parquet)\n",
    "EVALUATION_DATAFRAME.set_index('pubid', inplace=True)"
   ],
   "metadata": {
    "collapsed": false,
    "ExecuteTime": {
     "end_time": "2024-03-14T13:50:49.547088400Z",
     "start_time": "2024-03-14T13:50:35.454382800Z"
    }
   },
   "id": "b0f9824337391a9a",
   "execution_count": 5
  },
  {
   "cell_type": "code",
   "outputs": [],
   "source": [
    "profile = ProfileReport(EVALUATION_DATAFRAME, title=\"Profiling Report\")"
   ],
   "metadata": {
    "collapsed": false
   },
   "id": "5d0ed70f31c10544"
  },
  {
   "cell_type": "code",
   "outputs": [],
   "source": [
    "profile.to_widgets()"
   ],
   "metadata": {
    "collapsed": false
   },
   "id": "d112b5dd7446a789"
  },
  {
   "cell_type": "code",
   "outputs": [],
   "source": [
    "json_data = profile.to_json()\n",
    "profile.to_file(\"your_report.json\")"
   ],
   "metadata": {
    "collapsed": false
   },
   "id": "d0cb24d6be83a213"
  }
 ],
 "metadata": {
  "kernelspec": {
   "display_name": "Python 3",
   "language": "python",
   "name": "python3"
  },
  "language_info": {
   "codemirror_mode": {
    "name": "ipython",
    "version": 2
   },
   "file_extension": ".py",
   "mimetype": "text/x-python",
   "name": "python",
   "nbconvert_exporter": "python",
   "pygments_lexer": "ipython2",
   "version": "2.7.6"
  }
 },
 "nbformat": 4,
 "nbformat_minor": 5
}
