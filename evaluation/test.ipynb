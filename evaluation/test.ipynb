{
 "cells": [
  {
   "cell_type": "code",
   "execution_count": 15,
   "metadata": {},
   "outputs": [],
   "source": [
    "import json\n",
    "import random"
   ]
  },
  {
   "cell_type": "code",
   "execution_count": 8,
   "metadata": {},
   "outputs": [
    {
     "data": {
      "text/plain": [
       "dict_keys(['pubid_list'])"
      ]
     },
     "execution_count": 8,
     "metadata": {},
     "output_type": "execute_result"
    }
   ],
   "source": [
    "with open(\"pubID_list.json\", \"r\") as file:\n",
    "    # Charger les données JSON depuis le fichier\n",
    "    data = json.load(file)\n",
    "data.keys()"
   ]
  },
  {
   "cell_type": "code",
   "execution_count": 20,
   "metadata": {},
   "outputs": [
    {
     "data": {
      "text/plain": [
       "211269"
      ]
     },
     "execution_count": 20,
     "metadata": {},
     "output_type": "execute_result"
    }
   ],
   "source": [
    "liste = data['pubid_list']\n",
    "len(liste)"
   ]
  },
  {
   "cell_type": "code",
   "execution_count": 17,
   "metadata": {},
   "outputs": [
    {
     "data": {
      "text/plain": [
       "50"
      ]
     },
     "execution_count": 17,
     "metadata": {},
     "output_type": "execute_result"
    }
   ],
   "source": [
    "choix = random.sample(liste, 50)\n",
    "len(choix)"
   ]
  },
  {
   "cell_type": "code",
   "execution_count": 18,
   "metadata": {},
   "outputs": [
    {
     "data": {
      "text/plain": [
       "[27138702,\n",
       " 17624920,\n",
       " 12653172,\n",
       " 19067803,\n",
       " 19752385,\n",
       " 20525838,\n",
       " 25636253,\n",
       " 23321169,\n",
       " 19038998,\n",
       " 12417548,\n",
       " 9177511,\n",
       " 15466627,\n",
       " 16421117,\n",
       " 25416273,\n",
       " 21826766,\n",
       " 18041713,\n",
       " 22436018,\n",
       " 27752752,\n",
       " 8933126,\n",
       " 22897785,\n",
       " 23317773,\n",
       " 19479018,\n",
       " 16462004,\n",
       " 23441106,\n",
       " 27107135,\n",
       " 24463566,\n",
       " 21604079,\n",
       " 15942901,\n",
       " 20708103,\n",
       " 12844360,\n",
       " 14634566,\n",
       " 23712332,\n",
       " 15451917,\n",
       " 25375175,\n",
       " 10782911,\n",
       " 23456233,\n",
       " 25301361,\n",
       " 22356843,\n",
       " 17106929,\n",
       " 19455129,\n",
       " 15569302,\n",
       " 21981946,\n",
       " 26142205,\n",
       " 19096133,\n",
       " 20388204,\n",
       " 21827577,\n",
       " 23133587,\n",
       " 22351855,\n",
       " 15480106,\n",
       " 27492328]"
      ]
     },
     "execution_count": 18,
     "metadata": {},
     "output_type": "execute_result"
    }
   ],
   "source": [
    "choix"
   ]
  }
 ],
 "metadata": {
  "kernelspec": {
   "display_name": "base",
   "language": "python",
   "name": "python3"
  },
  "language_info": {
   "codemirror_mode": {
    "name": "ipython",
    "version": 3
   },
   "file_extension": ".py",
   "mimetype": "text/x-python",
   "name": "python",
   "nbconvert_exporter": "python",
   "pygments_lexer": "ipython3",
   "version": "3.9.18"
  }
 },
 "nbformat": 4,
 "nbformat_minor": 2
}
