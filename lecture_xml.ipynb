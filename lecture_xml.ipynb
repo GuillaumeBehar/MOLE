{
 "cells": [
  {
   "cell_type": "code",
   "execution_count": 1,
   "id": "16ac9e97-080d-45c2-8a1f-3d1da509c442",
   "metadata": {},
   "outputs": [],
   "source": [
    "import xml.etree.ElementTree as ET"
   ]
  },
  {
   "cell_type": "code",
   "execution_count": 2,
   "id": "5368269c-26c3-4ba9-aaf4-783c176cd5cc",
   "metadata": {},
   "outputs": [],
   "source": [
    "# Chargement du fichier XML\n",
    "tree = ET.parse('PMC10500033.xml')\n",
    "root = tree.getroot()"
   ]
  },
  {
   "cell_type": "code",
   "execution_count": 3,
   "id": "542c7aa6-0987-42cb-ba0a-084178131cd6",
   "metadata": {},
   "outputs": [],
   "source": [
    "def explore_element(element, indent=0):\n",
    "    print('  ' * indent + f\"Element: {element.tag}\")\n",
    "    for key, value in element.attrib.items():\n",
    "        print('  ' * (indent + 1) + f\"Attribute: {key} - {value}\")\n",
    "    if element.text and element.text.strip():\n",
    "        print('  ' * (indent + 1) + f\"Text: {element.text.strip()}\")\n",
    "    for child in element:\n",
    "        explore_element(child, indent + 1)"
   ]
  },
  {
   "cell_type": "code",
   "execution_count": 4,
   "id": "5e97556b-8b81-44ac-8612-40ec5ce09726",
   "metadata": {},
   "outputs": [],
   "source": [
    "def recup_abstract(element, indent=0, abstract_list=None):\n",
    "    if abstract_list is None:\n",
    "        abstract_list = []\n",
    "    \n",
    "    # Vérifier si element.text est défini\n",
    "    if element.tag == 'text':\n",
    "        abstract_list.append(element.text.strip())\n",
    "\n",
    "    for key, value in element.attrib.items():\n",
    "            if value == 'section_type':\n",
    "                if element.text and element.text.strip():\n",
    "                    if element.text.strip() == 'INTRO':\n",
    "                        abstract_list.append(element.text.strip())\n",
    "\n",
    "    for child in element:\n",
    "        recup_abstract(child, indent + 1, abstract_list)\n",
    "\n",
    "    # Trouver l'index de 'INTRODUCTION' dans la liste\n",
    "    introduction_index = next((i for i, text in enumerate(abstract_list) if 'INTRO' in text), None)\n",
    "\n",
    "    # Si 'INTRODUCTION' est trouvé, retourner la partie avant 'INTRODUCTION'\n",
    "    if introduction_index is not None:\n",
    "        return concatener_courtes(abstract_list[:introduction_index])\n",
    "\n",
    "    # Sinon, retourner toute la liste\n",
    "    return concatener_courtes(abstract_list)"
   ]
  },
  {
   "cell_type": "code",
   "execution_count": 5,
   "id": "b4b548ef-3df5-47a1-8a43-fca1cf710f68",
   "metadata": {},
   "outputs": [],
   "source": [
    "def concatener_courtes(abstract_list):\n",
    "    nouvelle_liste = []\n",
    "\n",
    "    # Parcourir la liste\n",
    "    i = 0\n",
    "    while i < len(abstract_list):\n",
    "        # Si la longueur de la chaîne actuelle est inférieure à 20\n",
    "        if len(abstract_list[i]) < 20:\n",
    "            # Concaténer avec la chaîne suivante si elle existe\n",
    "            if i + 1 < len(abstract_list):\n",
    "                nouvelle_liste.append(abstract_list[i] + ' ' + abstract_list[i + 1])\n",
    "                i += 2  # Passer à l'élément suivant après la concaténation\n",
    "            else:\n",
    "                nouvelle_liste.append(abstract_list[i])  # Ajouter la dernière chaîne si elle n'a pas de suivante\n",
    "                i += 1  # Passer à l'élément suivant\n",
    "        else:\n",
    "            nouvelle_liste.append(abstract_list[i])  # Ajouter la chaîne telle quelle\n",
    "            i += 1  # Passer à l'élément suivant\n",
    "\n",
    "    return nouvelle_liste"
   ]
  },
  {
   "cell_type": "code",
   "execution_count": 6,
   "id": "21394212-10b8-44d3-ae2a-e18eb9be82ef",
   "metadata": {
    "scrolled": true
   },
   "outputs": [
    {
     "data": {
      "text/plain": [
       "['“Out of the clear blue sky she tells me she loves me”: Connection experiences between caregivers and people with dementia',\n",
       " 'Background: Dementia can impede the relationship and connection between the person with dementia (PWD) and their caregiver. Yet, caregiving in dementia also offers opportunities for connection, which has implications for caregiver and PWD well-being. In this qualitative study, we describe and characterize ways caregivers felt connected to the person with dementia they care for.',\n",
       " 'Methods: We conducted a telephone-based survey with caregivers of people with dementia. For this paper, we analyzed responses to an open-ended question focused on when caregivers feel most connected to the person they are caring for. Responses were analyzed and coded and themes were identified through an iterative process involving a multidisciplinary team of researchers and clinicians.',\n",
       " 'Results: 437 caregivers participated in this study. We identified two domains of connection: activity-based and emotion-based connections. Within activity-based connections, the following themes emerged: everyday activities; reminiscing; activities of caregiving; novel experiences; and time with family and friends. Within emotional connections, the following themes emerged: expressions of love, appreciation, and gratitude; physical affection; sharing an emotion or emotional experience; and times when the PWD seems like “themself” again.',\n",
       " 'Conclusions: Findings provide insights into ways caregivers experience a sense of connection with the person they care for. There is a call to shift away from focusing on reducing stress and toward optimizing positive experiences as a way to better support caregivers’ health and well-being. Interventions that leverage these insights to foster caregiver – PWD connection could lead to better health and well-being for both members of the dyad. The amplification of a positive experience may be particularly important for caregivers who are struggling with limited support or respite. Clinicians may be interested in using a question about connection as a way to more fully understand a caregiver’s current experience.']"
      ]
     },
     "execution_count": 6,
     "metadata": {},
     "output_type": "execute_result"
    }
   ],
   "source": [
    "#exemple\n",
    "recup_abstract(root)"
   ]
  }
 ],
 "metadata": {
  "kernelspec": {
   "display_name": "Python 3 (ipykernel)",
   "language": "python",
   "name": "python3"
  },
  "language_info": {
   "codemirror_mode": {
    "name": "ipython",
    "version": 3
   },
   "file_extension": ".py",
   "mimetype": "text/x-python",
   "name": "python",
   "nbconvert_exporter": "python",
   "pygments_lexer": "ipython3",
   "version": "3.9.12"
  }
 },
 "nbformat": 4,
 "nbformat_minor": 5
}
