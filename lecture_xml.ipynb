{
 "cells": [
  {
   "cell_type": "code",
   "execution_count": 109,
   "id": "16ac9e97-080d-45c2-8a1f-3d1da509c442",
   "metadata": {},
   "outputs": [],
   "source": [
    "import xml.etree.ElementTree as ET"
   ]
  },
  {
   "cell_type": "code",
   "execution_count": 125,
   "id": "5368269c-26c3-4ba9-aaf4-783c176cd5cc",
   "metadata": {},
   "outputs": [],
   "source": [
    "# Chargement du fichier XML\n",
    "tree = ET.parse('PMC10500229.xml')\n",
    "root = tree.getroot()"
   ]
  },
  {
   "cell_type": "code",
   "execution_count": 126,
   "id": "542c7aa6-0987-42cb-ba0a-084178131cd6",
   "metadata": {},
   "outputs": [],
   "source": [
    "def explore_element(element, indent=0):\n",
    "    print('  ' * indent + f\"Element: {element.tag}\")\n",
    "    for key, value in element.attrib.items():\n",
    "        print('  ' * (indent + 1) + f\"Attribute: {key} - {value}\")\n",
    "    if element.text and element.text.strip():\n",
    "        print('  ' * (indent + 1) + f\"Text: {element.text.strip()}\")\n",
    "    for child in element:\n",
    "        explore_element(child, indent + 1)"
   ]
  },
  {
   "cell_type": "code",
   "execution_count": 127,
   "id": "5e97556b-8b81-44ac-8612-40ec5ce09726",
   "metadata": {},
   "outputs": [],
   "source": [
    "def recup_abstract(element, indent=0, abstract_list=None):\n",
    "    if abstract_list is None:\n",
    "        abstract_list = []\n",
    "    \n",
    "    # Vérifier si element.text est défini\n",
    "    if element.tag == 'text':\n",
    "        abstract_list.append(element.text.strip())\n",
    "\n",
    "    for key, value in element.attrib.items():\n",
    "            if value == 'section_type':\n",
    "                if element.text and element.text.strip():\n",
    "                    if element.text.strip() == 'INTRO':\n",
    "                        abstract_list.append(element.text.strip())\n",
    "\n",
    "    for child in element:\n",
    "        recup_abstract(child, indent + 1, abstract_list)\n",
    "\n",
    "    # Trouver l'index de 'INTRODUCTION' dans la liste\n",
    "    introduction_index = next((i for i, text in enumerate(abstract_list) if 'INTRO' in text), None)\n",
    "\n",
    "    # Si 'INTRODUCTION' est trouvé, retourner la partie avant 'INTRODUCTION'\n",
    "    if introduction_index is not None:\n",
    "        return abstract_list[:introduction_index]\n",
    "\n",
    "    # Sinon, retourner toute la liste\n",
    "    return abstract_list"
   ]
  },
  {
   "cell_type": "code",
   "execution_count": 128,
   "id": "21394212-10b8-44d3-ae2a-e18eb9be82ef",
   "metadata": {
    "scrolled": true
   },
   "outputs": [
    {
     "data": {
      "text/plain": [
       "['Bioinformatics identification and integrative analysis of ferroptosis-related key lncRNAs in patients with osteoarthritis',\n",
       " 'Abstract',\n",
       " 'Background: Ferroptosis and dysregulation of long non-coding RNA (lncRNA) have been described to be strictly relevant to the pathogenesis of osteoarthritis (OA). However, the connection between ferroptosis and lncRNA in OA is poorly appreciated. Herein, we investigated the functional contribution of lncRNA markers correlated with the progression of human OA by comprehensive bioinformatics analysis of a panoramic network of competing endogenous RNA (ceRNA) based on ferroptosis-related genes (FRGs).',\n",
       " 'Methods: FRGs-related competing endogenous RNA (ceRNA) networks were generated using differentially expressed genes based on OA-related whole transcriptome data from the Gene Expression Omnibus (GEO) database via starBase, miRTarBase, and miRWalk databases. The pivotal lncRNAs were ascertained by topological features (degree, betweenness, and closeness) and subceRNA networks were re-visualized. The expression difference of pivotal lncRNAs was verified by quantitative real-time polymerase chain reaction (qRT-PCR). The latent molecular mechanisms of the global ceRNA and subceRNA networks were uncovered by the R package clusterProfiler-based enrichment analysis.',\n",
       " 'Results: A total of 98 dysregulated lncRNA-miRNA-mRNA regulatory relationships were attained in the FRGs-related panoramic ceRNA network of OA, covering 26 mRNAs, 20 miRNAs, and 20 lncRNAs. Three lncRNAs (AC011511.5, AL358072.1, and C9orf139) were ascertained as the central lncRNAs in the panoramic ceRNA network. Functional ensemble analysis illustrated that both the panoramic ceRNA network and the subceRNA network were integrally affiliated with the immune-inflammatory response, oxygen homeostasis, and cell death (apoptosis, autophagy, and ferroptosis).',\n",
       " 'Conclusion: Comprehensive bioinformatics analysis of the FRGs-related ceRNA network determined three molecular biomarkers of lncRNAs that might be affiliated with OA progression.']"
      ]
     },
     "execution_count": 128,
     "metadata": {},
     "output_type": "execute_result"
    }
   ],
   "source": [
    "recup_abstract(root)"
   ]
  },
  {
   "cell_type": "code",
   "execution_count": null,
   "id": "dda4cd43-b1db-4a17-9374-4a90ac86c1b7",
   "metadata": {},
   "outputs": [],
   "source": []
  }
 ],
 "metadata": {
  "kernelspec": {
   "display_name": "Python 3 (ipykernel)",
   "language": "python",
   "name": "python3"
  },
  "language_info": {
   "codemirror_mode": {
    "name": "ipython",
    "version": 3
   },
   "file_extension": ".py",
   "mimetype": "text/x-python",
   "name": "python",
   "nbconvert_exporter": "python",
   "pygments_lexer": "ipython3",
   "version": "3.10.11"
  }
 },
 "nbformat": 4,
 "nbformat_minor": 5
}
